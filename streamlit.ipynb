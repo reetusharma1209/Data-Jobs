{
 "cells": [
  {
   "cell_type": "code",
   "execution_count": 3,
   "metadata": {},
   "outputs": [],
   "source": [
    "import pandas as pd\n",
    "import numpy as np\n",
    "from sklearn.model_selection import train_test_split\n",
    "from sklearn.metrics import mean_squared_error\n",
    "import xgboost as xgb\n",
    "import matplotlib.pyplot as plt"
   ]
  },
  {
   "cell_type": "markdown",
   "metadata": {},
   "source": [
    "## Load Data"
   ]
  },
  {
   "cell_type": "code",
   "execution_count": 4,
   "metadata": {},
   "outputs": [],
   "source": [
    "# Load the DataFrame from the CSV file\n",
    "df = pd.read_csv('Data/output/df_cleaned.csv')"
   ]
  },
  {
   "cell_type": "code",
   "execution_count": 6,
   "metadata": {},
   "outputs": [
    {
     "name": "stdout",
     "output_type": "stream",
     "text": [
      "<class 'pandas.core.frame.DataFrame'>\n",
      "RangeIndex: 785692 entries, 0 to 785691\n",
      "Data columns (total 18 columns):\n",
      " #   Column                 Non-Null Count   Dtype  \n",
      "---  ------                 --------------   -----  \n",
      " 0   job_title_short        785692 non-null  object \n",
      " 1   job_title              785692 non-null  object \n",
      " 2   job_location           785692 non-null  object \n",
      " 3   job_via                785692 non-null  object \n",
      " 4   job_schedule_type      785692 non-null  object \n",
      " 5   job_work_from_home     785692 non-null  bool   \n",
      " 6   search_location        785692 non-null  object \n",
      " 7   job_posted_date        785692 non-null  object \n",
      " 8   job_no_degree_mention  785692 non-null  bool   \n",
      " 9   job_health_insurance   785692 non-null  bool   \n",
      " 10  job_country            785692 non-null  object \n",
      " 11  salary_year_avg        22003 non-null   float64\n",
      " 12  company_name           785675 non-null  object \n",
      " 13  job_skills             785692 non-null  object \n",
      " 14  job_type_skills        785692 non-null  object \n",
      " 15  num_jobs               785692 non-null  int64  \n",
      " 16  latitude               785692 non-null  float64\n",
      " 17  longitude              785692 non-null  float64\n",
      "dtypes: bool(3), float64(3), int64(1), object(11)\n",
      "memory usage: 92.2+ MB\n"
     ]
    }
   ],
   "source": [
    "df.info()"
   ]
  },
  {
   "cell_type": "code",
   "execution_count": 5,
   "metadata": {},
   "outputs": [
    {
     "data": {
      "text/plain": [
       "job_title_short               0\n",
       "job_title                     0\n",
       "job_location                  0\n",
       "job_via                       0\n",
       "job_schedule_type             0\n",
       "job_work_from_home            0\n",
       "search_location               0\n",
       "job_posted_date               0\n",
       "job_no_degree_mention         0\n",
       "job_health_insurance          0\n",
       "job_country                   0\n",
       "salary_year_avg          763689\n",
       "company_name                 17\n",
       "job_skills                    0\n",
       "job_type_skills               0\n",
       "num_jobs                      0\n",
       "latitude                      0\n",
       "longitude                     0\n",
       "dtype: int64"
      ]
     },
     "execution_count": 5,
     "metadata": {},
     "output_type": "execute_result"
    }
   ],
   "source": [
    "df.isnull().sum()"
   ]
  },
  {
   "cell_type": "code",
   "execution_count": 20,
   "metadata": {},
   "outputs": [
    {
     "data": {
      "text/plain": [
       "Index(['job_title_short', 'job_title', 'job_location', 'job_via',\n",
       "       'job_schedule_type', 'job_work_from_home', 'search_location',\n",
       "       'job_posted_date', 'job_no_degree_mention', 'job_health_insurance',\n",
       "       'job_country', 'salary_year_avg', 'company_name', 'job_skills',\n",
       "       'job_type_skills', 'num_jobs', 'latitude', 'longitude'],\n",
       "      dtype='object')"
      ]
     },
     "execution_count": 20,
     "metadata": {},
     "output_type": "execute_result"
    }
   ],
   "source": [
    "df.columns"
   ]
  },
  {
   "cell_type": "code",
   "execution_count": 21,
   "metadata": {},
   "outputs": [
    {
     "name": "stdout",
     "output_type": "stream",
     "text": [
      "Requirement already satisfied: streamlit in d:\\ironhack\\git\\final project\\.venv\\lib\\site-packages (1.37.1)\n",
      "Requirement already satisfied: pandas in d:\\ironhack\\git\\final project\\.venv\\lib\\site-packages (2.2.2)\n",
      "Requirement already satisfied: prophet in d:\\ironhack\\git\\final project\\.venv\\lib\\site-packages (1.1.5)\n",
      "Requirement already satisfied: matplotlib in d:\\ironhack\\git\\final project\\.venv\\lib\\site-packages (3.9.2)\n",
      "Requirement already satisfied: altair<6,>=4.0 in d:\\ironhack\\git\\final project\\.venv\\lib\\site-packages (from streamlit) (5.4.0)\n",
      "Requirement already satisfied: blinker<2,>=1.0.0 in d:\\ironhack\\git\\final project\\.venv\\lib\\site-packages (from streamlit) (1.8.2)\n",
      "Requirement already satisfied: cachetools<6,>=4.0 in d:\\ironhack\\git\\final project\\.venv\\lib\\site-packages (from streamlit) (5.4.0)\n",
      "Requirement already satisfied: click<9,>=7.0 in d:\\ironhack\\git\\final project\\.venv\\lib\\site-packages (from streamlit) (8.1.7)\n",
      "Requirement already satisfied: numpy<3,>=1.20 in d:\\ironhack\\git\\final project\\.venv\\lib\\site-packages (from streamlit) (1.23.5)\n",
      "Requirement already satisfied: packaging<25,>=20 in d:\\ironhack\\git\\final project\\.venv\\lib\\site-packages (from streamlit) (24.1)\n",
      "Requirement already satisfied: pillow<11,>=7.1.0 in d:\\ironhack\\git\\final project\\.venv\\lib\\site-packages (from streamlit) (10.4.0)\n",
      "Requirement already satisfied: protobuf<6,>=3.20 in d:\\ironhack\\git\\final project\\.venv\\lib\\site-packages (from streamlit) (5.27.3)\n",
      "Requirement already satisfied: pyarrow>=7.0 in d:\\ironhack\\git\\final project\\.venv\\lib\\site-packages (from streamlit) (17.0.0)\n",
      "Requirement already satisfied: requests<3,>=2.27 in d:\\ironhack\\git\\final project\\.venv\\lib\\site-packages (from streamlit) (2.32.3)\n",
      "Requirement already satisfied: rich<14,>=10.14.0 in d:\\ironhack\\git\\final project\\.venv\\lib\\site-packages (from streamlit) (13.7.1)\n",
      "Requirement already satisfied: tenacity<9,>=8.1.0 in d:\\ironhack\\git\\final project\\.venv\\lib\\site-packages (from streamlit) (8.5.0)\n",
      "Requirement already satisfied: toml<2,>=0.10.1 in d:\\ironhack\\git\\final project\\.venv\\lib\\site-packages (from streamlit) (0.10.2)\n",
      "Requirement already satisfied: typing-extensions<5,>=4.3.0 in d:\\ironhack\\git\\final project\\.venv\\lib\\site-packages (from streamlit) (4.12.2)\n",
      "Requirement already satisfied: gitpython!=3.1.19,<4,>=3.0.7 in d:\\ironhack\\git\\final project\\.venv\\lib\\site-packages (from streamlit) (3.1.43)\n",
      "Requirement already satisfied: pydeck<1,>=0.8.0b4 in d:\\ironhack\\git\\final project\\.venv\\lib\\site-packages (from streamlit) (0.9.1)\n",
      "Requirement already satisfied: tornado<7,>=6.0.3 in d:\\ironhack\\git\\final project\\.venv\\lib\\site-packages (from streamlit) (6.4.1)\n",
      "Requirement already satisfied: watchdog<5,>=2.1.5 in d:\\ironhack\\git\\final project\\.venv\\lib\\site-packages (from streamlit) (4.0.2)\n",
      "Requirement already satisfied: python-dateutil>=2.8.2 in d:\\ironhack\\git\\final project\\.venv\\lib\\site-packages (from pandas) (2.9.0.post0)\n",
      "Requirement already satisfied: pytz>=2020.1 in d:\\ironhack\\git\\final project\\.venv\\lib\\site-packages (from pandas) (2024.1)\n",
      "Requirement already satisfied: tzdata>=2022.7 in d:\\ironhack\\git\\final project\\.venv\\lib\\site-packages (from pandas) (2024.1)\n",
      "Requirement already satisfied: cmdstanpy>=1.0.4 in d:\\ironhack\\git\\final project\\.venv\\lib\\site-packages (from prophet) (1.2.4)\n",
      "Requirement already satisfied: holidays>=0.25 in d:\\ironhack\\git\\final project\\.venv\\lib\\site-packages (from prophet) (0.54)\n",
      "Requirement already satisfied: tqdm>=4.36.1 in d:\\ironhack\\git\\final project\\.venv\\lib\\site-packages (from prophet) (4.66.5)\n",
      "Requirement already satisfied: importlib-resources in d:\\ironhack\\git\\final project\\.venv\\lib\\site-packages (from prophet) (6.4.0)\n",
      "Requirement already satisfied: contourpy>=1.0.1 in d:\\ironhack\\git\\final project\\.venv\\lib\\site-packages (from matplotlib) (1.2.1)\n",
      "Requirement already satisfied: cycler>=0.10 in d:\\ironhack\\git\\final project\\.venv\\lib\\site-packages (from matplotlib) (0.12.1)\n",
      "Requirement already satisfied: fonttools>=4.22.0 in d:\\ironhack\\git\\final project\\.venv\\lib\\site-packages (from matplotlib) (4.53.1)\n",
      "Requirement already satisfied: kiwisolver>=1.3.1 in d:\\ironhack\\git\\final project\\.venv\\lib\\site-packages (from matplotlib) (1.4.5)\n",
      "Requirement already satisfied: pyparsing>=2.3.1 in d:\\ironhack\\git\\final project\\.venv\\lib\\site-packages (from matplotlib) (3.1.2)\n",
      "Requirement already satisfied: jinja2 in d:\\ironhack\\git\\final project\\.venv\\lib\\site-packages (from altair<6,>=4.0->streamlit) (3.1.4)\n",
      "Requirement already satisfied: jsonschema>=3.0 in d:\\ironhack\\git\\final project\\.venv\\lib\\site-packages (from altair<6,>=4.0->streamlit) (4.23.0)\n",
      "Requirement already satisfied: narwhals>=1.1.0 in d:\\ironhack\\git\\final project\\.venv\\lib\\site-packages (from altair<6,>=4.0->streamlit) (1.4.1)\n",
      "Requirement already satisfied: colorama in d:\\ironhack\\git\\final project\\.venv\\lib\\site-packages (from click<9,>=7.0->streamlit) (0.4.6)\n",
      "Requirement already satisfied: stanio<2.0.0,>=0.4.0 in d:\\ironhack\\git\\final project\\.venv\\lib\\site-packages (from cmdstanpy>=1.0.4->prophet) (0.5.1)\n",
      "Requirement already satisfied: gitdb<5,>=4.0.1 in d:\\ironhack\\git\\final project\\.venv\\lib\\site-packages (from gitpython!=3.1.19,<4,>=3.0.7->streamlit) (4.0.11)\n",
      "Requirement already satisfied: six>=1.5 in d:\\ironhack\\git\\final project\\.venv\\lib\\site-packages (from python-dateutil>=2.8.2->pandas) (1.16.0)\n",
      "Requirement already satisfied: charset-normalizer<4,>=2 in d:\\ironhack\\git\\final project\\.venv\\lib\\site-packages (from requests<3,>=2.27->streamlit) (3.3.2)\n",
      "Requirement already satisfied: idna<4,>=2.5 in d:\\ironhack\\git\\final project\\.venv\\lib\\site-packages (from requests<3,>=2.27->streamlit) (3.7)\n",
      "Requirement already satisfied: urllib3<3,>=1.21.1 in d:\\ironhack\\git\\final project\\.venv\\lib\\site-packages (from requests<3,>=2.27->streamlit) (2.2.2)\n",
      "Requirement already satisfied: certifi>=2017.4.17 in d:\\ironhack\\git\\final project\\.venv\\lib\\site-packages (from requests<3,>=2.27->streamlit) (2024.7.4)\n",
      "Requirement already satisfied: markdown-it-py>=2.2.0 in d:\\ironhack\\git\\final project\\.venv\\lib\\site-packages (from rich<14,>=10.14.0->streamlit) (3.0.0)\n",
      "Requirement already satisfied: pygments<3.0.0,>=2.13.0 in d:\\ironhack\\git\\final project\\.venv\\lib\\site-packages (from rich<14,>=10.14.0->streamlit) (2.18.0)\n",
      "Requirement already satisfied: smmap<6,>=3.0.1 in d:\\ironhack\\git\\final project\\.venv\\lib\\site-packages (from gitdb<5,>=4.0.1->gitpython!=3.1.19,<4,>=3.0.7->streamlit) (5.0.1)\n",
      "Requirement already satisfied: MarkupSafe>=2.0 in d:\\ironhack\\git\\final project\\.venv\\lib\\site-packages (from jinja2->altair<6,>=4.0->streamlit) (2.1.5)\n",
      "Requirement already satisfied: attrs>=22.2.0 in d:\\ironhack\\git\\final project\\.venv\\lib\\site-packages (from jsonschema>=3.0->altair<6,>=4.0->streamlit) (24.2.0)\n",
      "Requirement already satisfied: jsonschema-specifications>=2023.03.6 in d:\\ironhack\\git\\final project\\.venv\\lib\\site-packages (from jsonschema>=3.0->altair<6,>=4.0->streamlit) (2023.12.1)\n",
      "Requirement already satisfied: referencing>=0.28.4 in d:\\ironhack\\git\\final project\\.venv\\lib\\site-packages (from jsonschema>=3.0->altair<6,>=4.0->streamlit) (0.35.1)\n",
      "Requirement already satisfied: rpds-py>=0.7.1 in d:\\ironhack\\git\\final project\\.venv\\lib\\site-packages (from jsonschema>=3.0->altair<6,>=4.0->streamlit) (0.20.0)\n",
      "Requirement already satisfied: mdurl~=0.1 in d:\\ironhack\\git\\final project\\.venv\\lib\\site-packages (from markdown-it-py>=2.2.0->rich<14,>=10.14.0->streamlit) (0.1.2)\n",
      "Note: you may need to restart the kernel to use updated packages.\n"
     ]
    }
   ],
   "source": [
    "pip install streamlit pandas prophet matplotlib\n"
   ]
  },
  {
   "cell_type": "code",
   "execution_count": 22,
   "metadata": {},
   "outputs": [
    {
     "data": {
      "text/plain": [
       "Index(['job_title_short', 'job_title', 'job_location', 'job_via',\n",
       "       'job_schedule_type', 'job_work_from_home', 'search_location',\n",
       "       'job_posted_date', 'job_no_degree_mention', 'job_health_insurance',\n",
       "       'job_country', 'salary_year_avg', 'company_name', 'job_skills',\n",
       "       'job_type_skills', 'num_jobs', 'latitude', 'longitude'],\n",
       "      dtype='object')"
      ]
     },
     "execution_count": 22,
     "metadata": {},
     "output_type": "execute_result"
    }
   ],
   "source": [
    "df.columns"
   ]
  },
  {
   "cell_type": "code",
   "execution_count": 23,
   "metadata": {},
   "outputs": [
    {
     "name": "stdout",
     "output_type": "stream",
     "text": [
      "Skipping Business Analyst in Angola at (-12.5, 18.5) due to insufficient data.\n",
      "Skipping Business Analyst in Bolivia at (-17.0, -65.0) due to insufficient data.\n",
      "Skipping Business Analyst in Djibouti at (11.833333333333334, 42.5) due to insufficient data.\n",
      "Skipping Business Analyst in Laos at (18.0, 105.0) due to insufficient data.\n",
      "Skipping Business Analyst in Mali at (18.0, -2.0) due to insufficient data.\n",
      "Skipping Business Analyst in Montenegro at (42.75, 19.25) due to insufficient data.\n",
      "Skipping Business Analyst in Somalia at (6.0, 48.0) due to insufficient data.\n",
      "Skipping Cloud Engineer in Albania at (41.0, 20.0) due to insufficient data.\n",
      "Skipping Cloud Engineer in Bolivia at (-17.0, -65.0) due to insufficient data.\n",
      "Skipping Cloud Engineer in Burkina Faso at (12.5, -1.6666666666666663) due to insufficient data.\n",
      "Skipping additional groups due to insufficient data...\n",
      "Processing completed.\n"
     ]
    }
   ],
   "source": [
    "import pandas as pd\n",
    "from prophet import Prophet\n",
    "import logging\n",
    "\n",
    "# Suppress cmdstanpy logs\n",
    "logging.getLogger('cmdstanpy').setLevel(logging.CRITICAL)\n",
    "\n",
    "# Load your data\n",
    "# df = pd.read_csv('job_data.csv')\n",
    "\n",
    "# Convert date column to datetime\n",
    "df['job_posted_date'] = pd.to_datetime(df['job_posted_date'])\n",
    "\n",
    "# Aggregate data by month, job type, and job_country\n",
    "df['month'] = df['job_posted_date'].dt.to_period('M').astype(str)\n",
    "aggregated_df = df.groupby(['month', 'job_title_short', 'job_country', 'latitude', 'longitude']).agg({'num_jobs': 'sum'}).reset_index()\n",
    "\n",
    "# Prepare the data for Prophet\n",
    "aggregated_df.rename(columns={'month': 'ds', 'num_jobs': 'y'}, inplace=True)\n",
    "aggregated_df['ds'] = pd.to_datetime(aggregated_df['ds'])\n",
    "\n",
    "# Initialize an empty list to store predictions\n",
    "predictions = []\n",
    "\n",
    "# Initialize a counter for skipped groups\n",
    "skipped_groups = 0\n",
    "max_skipped_messages = 10  # Limit the number of \"skipping\" messages\n",
    "\n",
    "# Train the model for each job type and location\n",
    "for (job_title, job_country, lat, lon), group in aggregated_df.groupby(['job_title_short', 'job_country', 'latitude', 'longitude']):\n",
    "    # Check if the group has at least 2 non-NaN rows\n",
    "    if group['y'].notnull().sum() < 2:\n",
    "        if skipped_groups < max_skipped_messages:\n",
    "            print(f\"Skipping {job_title} in {job_country} at ({lat}, {lon}) due to insufficient data.\")\n",
    "        elif skipped_groups == max_skipped_messages:\n",
    "            print(\"Skipping additional groups due to insufficient data...\")\n",
    "        skipped_groups += 1\n",
    "        continue\n",
    "    \n",
    "    # Create a new Prophet model for each iteration\n",
    "    model = Prophet()\n",
    "    \n",
    "    # Fit the model\n",
    "    model.fit(group)\n",
    "    \n",
    "    # Create a future dataframe for 12 months using 'ME' frequency\n",
    "    future = model.make_future_dataframe(periods=12, freq='ME')\n",
    "    \n",
    "    # Predict future values\n",
    "    forecast = model.predict(future)\n",
    "    \n",
    "    # Add job title, job_country, and coordinates to the forecast\n",
    "    forecast['job_title_short'] = job_title\n",
    "    forecast['job_country'] = job_country\n",
    "    forecast['latitude'] = lat\n",
    "    forecast['longitude'] = lon\n",
    "    \n",
    "    # Append the forecast to the predictions list\n",
    "    predictions.append(forecast[['ds', 'yhat', 'job_title_short', 'job_country', 'latitude', 'longitude']])\n",
    "\n",
    "# Combine all the predictions into a single DataFrame\n",
    "predicted_df = pd.concat(predictions, ignore_index=True)\n",
    "\n",
    "# Rename the predicted column and ensure no negative predictions\n",
    "predicted_df.rename(columns={'yhat': 'num_jobs'}, inplace=True)\n",
    "predicted_df['num_jobs'] = predicted_df['num_jobs'].apply(lambda x: max(0, int(x)))\n",
    "\n",
    "# Combine with the existing data\n",
    "combined_df = pd.concat([aggregated_df, predicted_df])\n",
    "\n",
    "# Save the combined DataFrame to a CSV file or use it in your Streamlit app\n",
    "combined_df.to_csv('combined_predictions.csv', index=False)\n",
    "\n",
    "print(\"Processing completed.\")\n"
   ]
  },
  {
   "cell_type": "markdown",
   "metadata": {},
   "source": []
  }
 ],
 "metadata": {
  "kernelspec": {
   "display_name": ".venv",
   "language": "python",
   "name": "python3"
  },
  "language_info": {
   "codemirror_mode": {
    "name": "ipython",
    "version": 3
   },
   "file_extension": ".py",
   "mimetype": "text/x-python",
   "name": "python",
   "nbconvert_exporter": "python",
   "pygments_lexer": "ipython3",
   "version": "3.11.7"
  }
 },
 "nbformat": 4,
 "nbformat_minor": 2
}
